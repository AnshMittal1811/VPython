{
 "cells": [
  {
   "cell_type": "code",
   "execution_count": null,
   "metadata": {},
   "outputs": [
    {
     "data": {
      "application/javascript": [
       "if (typeof Jupyter !== \"undefined\") {require.undef(\"nbextensions/vpython_libraries/glow.min\");}else{element.textContent = ' ';}"
      ],
      "text/plain": [
       "<IPython.core.display.Javascript object>"
      ]
     },
     "metadata": {},
     "output_type": "display_data"
    },
    {
     "data": {
      "application/javascript": [
       "if (typeof Jupyter !== \"undefined\") {require.undef(\"nbextensions/vpython_libraries/glowcomm\");}else{element.textContent = ' ';}"
      ],
      "text/plain": [
       "<IPython.core.display.Javascript object>"
      ]
     },
     "metadata": {},
     "output_type": "display_data"
    },
    {
     "data": {
      "application/javascript": [
       "if (typeof Jupyter !== \"undefined\") {require.undef(\"nbextensions/vpython_libraries/jquery-ui.custom.min\");}else{element.textContent = ' ';}"
      ],
      "text/plain": [
       "<IPython.core.display.Javascript object>"
      ]
     },
     "metadata": {},
     "output_type": "display_data"
    },
    {
     "data": {
      "application/javascript": [
       "if (typeof Jupyter !== \"undefined\") {require([\"nbextensions/vpython_libraries/glow.min\"], function(){console.log(\"GLOW LOADED\");});}else{element.textContent = ' ';}"
      ],
      "text/plain": [
       "<IPython.core.display.Javascript object>"
      ]
     },
     "metadata": {},
     "output_type": "display_data"
    },
    {
     "data": {
      "application/javascript": [
       "if (typeof Jupyter !== \"undefined\") {require([\"nbextensions/vpython_libraries/glowcomm\"], function(){console.log(\"GLOWCOMM LOADED\");});}else{element.textContent = ' ';}"
      ],
      "text/plain": [
       "<IPython.core.display.Javascript object>"
      ]
     },
     "metadata": {},
     "output_type": "display_data"
    },
    {
     "data": {
      "application/javascript": [
       "if (typeof Jupyter !== \"undefined\") {require([\"nbextensions/vpython_libraries/jquery-ui.custom.min\"], function(){console.log(\"JQUERY LOADED\");});}else{element.textContent = ' ';}"
      ],
      "text/plain": [
       "<IPython.core.display.Javascript object>"
      ]
     },
     "metadata": {},
     "output_type": "display_data"
    },
    {
     "data": {
      "text/html": [
       "<div id=\"glowscript\" class=\"glowscript\"></div>"
      ],
      "text/plain": [
       "<IPython.core.display.HTML object>"
      ]
     },
     "metadata": {},
     "output_type": "display_data"
    },
    {
     "data": {
      "application/javascript": [
       "if (typeof Jupyter !== \"undefined\") { window.__context = { glowscript_container: $(\"#glowscript\").removeAttr(\"id\")};}else{ element.textContent = ' ';}"
      ],
      "text/plain": [
       "<IPython.core.display.Javascript object>"
      ]
     },
     "metadata": {},
     "output_type": "display_data"
    }
   ],
   "source": [
    "from __future__ import division\n",
    "from math import fsum\n",
    "from random import gauss\n",
    "from vpython import *\n",
    "import numpy as np\n",
    "\n",
    "\n",
    "# Gravitational constant in N * m^2 / kg^2\n",
    "G = 6.673e-11\n",
    "\n",
    "# Solar mass in kg (assume average stellar mass)\n",
    "SOLAR_MASS = 2.000e30\n",
    "\n",
    "# Precalculated bounds to solar mass\n",
    "MIN_SOLAR_MASS = SOLAR_MASS * 0.5\n",
    "MAX_SOLAR_MASS = SOLAR_MASS * 250\n",
    "AVG_SOLAR_MASS = SOLAR_MASS * 3.0\n",
    "\n",
    "# Scale distances for galactic scales\n",
    "DIST_SCALE = 1e20\n",
    "\n",
    "# Galactic parameters\n",
    "MAX_ORBITAL_RADIUS = DIST_SCALE * 10\n",
    "MIN_ORBITAL_RADIUS = DIST_SCALE * 0.15\n",
    "GALAXY_THICKNESS = DIST_SCALE * 0.5\n",
    "NUM_STARS_MILKY_WAY = 2500\n",
    "NUM_STARS_ANDROMEDA = 10000\n",
    "\n",
    "# Graphical constants here\n",
    "STAR_RADIUS = 0.025\n",
    "\n",
    "dt = 1e17\n",
    "\n",
    "# Limit x between lower and upper\n",
    "def clamp(x, lower, upper):\n",
    "    return max(min(x, upper), lower)\n",
    "\n",
    "\n",
    "# Return the force due to gravity on an object\n",
    "def gravity(mass1, mass2, radius):\n",
    "    return G * mass1 * mass2 / radius / radius\n",
    "\n",
    "\n",
    "# Return the acceleration due to gravity on an object.\n",
    "def g_accel(mass, radius):\n",
    "    # Limit minimum radius to avoid flinging out too many particles\n",
    "    radius = max(radius, MIN_ORBITAL_RADIUS)\n",
    "    return G * mass / radius / radius\n",
    "\n",
    "class Star(object):\n",
    "    def __init__(self, mass, radius, pos, vel, color):\n",
    "        self.obj = sphere(pos=pos / DIST_SCALE, radius=radius, color=color)\n",
    "        self.mass = mass\n",
    "        self.vel = vel\n",
    "        self._pos = pos\n",
    "\n",
    "    # Externally use scaled version for physics, use normalized version for graphics\n",
    "    # Make sure _pos = obj.pos * DIST_SCALE is always true\n",
    "    @property\n",
    "    def pos(self):\n",
    "        return self._pos\n",
    "\n",
    "    @pos.setter\n",
    "    def pos(self, value):\n",
    "        self.obj.pos = value / DIST_SCALE\n",
    "        self._pos = value\n",
    "\n",
    "    def __str__(self):\n",
    "        return \"Mass: \" + str(self.mass) + \"\\nPos: \" + str(self.pos) + \\\n",
    "            \"\\nVel: \" + str(self.vel)\n",
    "\n",
    "\n",
    "class Galaxy(object):\n",
    "    def __init__(self, num_stars, pos, vel, radius, thickness, color):\n",
    "        self.pos = pos\n",
    "        self.vel = vel\n",
    "        self.radius = radius\n",
    "\n",
    "        # Gaussian (normal) distributions ftw!\n",
    "        sigma_mass = AVG_SOLAR_MASS / 3.0\n",
    "        masses = [clamp(gauss(mu=AVG_SOLAR_MASS, sigma=sigma_mass), MIN_SOLAR_MASS, MAX_SOLAR_MASS)\n",
    "            for i in range(num_stars)]\n",
    "\n",
    "        # Galaxy mass is sum of all stars\n",
    "        self.mass = fsum(masses)\n",
    "\n",
    "        # Gaussian distribution of positions\n",
    "        sigma_x = radius * 0.1\n",
    "        sigma_y = thickness * 0.10\n",
    "        sigma_z = radius * 0.1\n",
    "\n",
    "        # Generate list of all positions\n",
    "        positions = []\n",
    "        for i in range(num_stars):\n",
    "            pos = vector(\n",
    "                clamp(gauss(mu=0, sigma=sigma_x), -radius, radius),\n",
    "                clamp(gauss(mu=0, sigma=sigma_y), -thickness, thickness),\n",
    "                clamp(gauss(mu=0, sigma=sigma_z), -radius, radius)\n",
    "            )\n",
    "\n",
    "            # Limit radius to avoid particles shooting to nowhere\n",
    "            if pos.mag < MIN_ORBITAL_RADIUS:\n",
    "                pos.mag = MIN_ORBITAL_RADIUS\n",
    "\n",
    "            positions.append(pos)\n",
    "\n",
    "        def calc_orbital_velocity(center_mass, radius):\n",
    "            return sqrt(G * center_mass / radius)\n",
    "\n",
    "        # Generate list of all stars\n",
    "        stars = []\n",
    "        up = vector(0.0, 1.0, 0.0)\n",
    "        for i in range(num_stars):\n",
    "            # Find normalized vector along direction of travel\n",
    "            absolute_pos = positions[i] + self.pos\n",
    "            relative_pos = positions[i]\n",
    "            vec = relative_pos.cross(up).norm()\n",
    "            relative_vel = vec * calc_orbital_velocity(self.mass, relative_pos.mag)\n",
    "            absolute_vel = relative_vel + vel\n",
    "\n",
    "            stars.append(Star(\n",
    "                mass=masses[i],\n",
    "                radius=STAR_RADIUS,\n",
    "                pos=absolute_pos,\n",
    "                # From a = v^2/r = Gm/r^2 w we have v = sqrt(G * m / r)\n",
    "                vel=absolute_vel,\n",
    "                color=color\n",
    "            ))\n",
    "\n",
    "        self.stars = np.array(stars)\n",
    "\n",
    "\n",
    "# Calculate acceleration on an object caused by galaxy\n",
    "def accel(obj, galaxy):\n",
    "    r_galaxy = galaxy.pos - obj.pos\n",
    "    # We have a = F / m = G * m_center / r ^2\n",
    "    return r_galaxy.norm() * g_accel(galaxy.mass, r_galaxy.mag)\n",
    "\n",
    "\n",
    "def main():\n",
    "    t = 0\n",
    "    milky_way = Galaxy(\n",
    "        num_stars=NUM_STARS_MILKY_WAY,\n",
    "        pos=vector(-3, 0, 0) * DIST_SCALE,\n",
    "        vel=vector(0, 5, 0),\n",
    "        radius=MAX_ORBITAL_RADIUS,\n",
    "        thickness=GALAXY_THICKNESS,\n",
    "        color=color.white\n",
    "    )\n",
    "    andromeda = Galaxy(\n",
    "        num_stars=NUM_STARS_ANDROMEDA,\n",
    "        pos=vector(3, 0, 0) * DIST_SCALE,\n",
    "        vel=vector(0, 0, 0),\n",
    "        radius=MAX_ORBITAL_RADIUS,\n",
    "        thickness=GALAXY_THICKNESS,\n",
    "        color=color.blue\n",
    "    )\n",
    "\n",
    "    while 1:\n",
    "        rate(15)\n",
    "\n",
    "        for i in range(len(milky_way.stars)):\n",
    "            star = milky_way.stars[i]\n",
    "            star.vel += accel(star, andromeda) * dt\n",
    "            star.vel += accel(star, milky_way) * dt\n",
    "            star.pos += star.vel * dt\n",
    "\n",
    "        andromeda_mask = np.zeros(len(andromeda.stars))\n",
    "\n",
    "        for star in andromeda.stars:\n",
    "            star.vel += accel(star, milky_way) * dt\n",
    "            star.vel += accel(star, andromeda) * dt\n",
    "            star.pos += star.vel * dt\n",
    "\n",
    "        milky_way.vel += accel(milky_way, andromeda) * dt\n",
    "        milky_way.pos += milky_way.vel * dt\n",
    "\n",
    "        andromeda.vel += accel(andromeda, milky_way) * dt\n",
    "        andromeda.pos += andromeda.vel * dt\n",
    "\n",
    "        t += dt\n",
    "\n",
    "\n",
    "if __name__ == '__main__':\n",
    "    main()"
   ]
  },
  {
   "cell_type": "code",
   "execution_count": null,
   "metadata": {},
   "outputs": [],
   "source": []
  }
 ],
 "metadata": {
  "kernelspec": {
   "display_name": "Python 3",
   "language": "python",
   "name": "python3"
  },
  "language_info": {
   "codemirror_mode": {
    "name": "ipython",
    "version": 3
   },
   "file_extension": ".py",
   "mimetype": "text/x-python",
   "name": "python",
   "nbconvert_exporter": "python",
   "pygments_lexer": "ipython3",
   "version": "3.7.1"
  }
 },
 "nbformat": 4,
 "nbformat_minor": 2
}
